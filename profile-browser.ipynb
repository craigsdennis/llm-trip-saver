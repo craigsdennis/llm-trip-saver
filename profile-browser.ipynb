{
 "cells": [
  {
   "cell_type": "code",
   "execution_count": 1,
   "metadata": {},
   "outputs": [],
   "source": [
    "import requests\n",
    "\n",
    "company = \"shadazzle\" # OR \"fitlyfe\" OR \"socimind\"\n",
    "profiles_url = f\"https://llm-companies.cyclic.app/api/{company}/profiles\"\n",
    "\n",
    "def get_profile(id):\n",
    "    profile_url = profiles_url + \"/\" + str(id)\n",
    "    response = requests.get(profile_url)\n",
    "    return response.json()"
   ]
  },
  {
   "cell_type": "code",
   "execution_count": 2,
   "metadata": {},
   "outputs": [
    {
     "data": {
      "text/plain": [
       "{'id': 1,\n",
       " 'first_name': 'Lucy',\n",
       " 'last_name': 'Rohan',\n",
       " 'email': 'lucy_rohan@yahoo.com',\n",
       " 'phone_number': '+12649730709',\n",
       " 'address': {'street': '426 Cummerata Mountain',\n",
       "  'city': 'Swiftfield',\n",
       "  'state': 'UT',\n",
       "  'zip_code': '87051'},\n",
       " 'recent_purchases': [{'product_id': 'HoloShades',\n",
       "   'price': 271.41,\n",
       "   'date': '2022-07-16T21:52:39.282Z'},\n",
       "  {'product_id': 'SunSync',\n",
       "   'price': 155.67,\n",
       "   'date': '2022-02-28T01:21:42.343Z'},\n",
       "  {'product_id': 'LightShades',\n",
       "   'price': 189.87,\n",
       "   'date': '2021-12-05T14:09:21.056Z'},\n",
       "  {'product_id': 'ZoomShades',\n",
       "   'price': 191.48,\n",
       "   'date': '2022-09-02T01:56:28.159Z'}],\n",
       " 'website_behavior': {'pages_viewed': 8,\n",
       "  'time_spent': 56,\n",
       "  'last_visit': '2023-03-27T08:38:25.780Z'},\n",
       " 'social_media_engagement': {'facebook': {'likes': 1,\n",
       "   'comments': 0,\n",
       "   'shares': 0},\n",
       "  'instagram': {'likes': 27, 'comments': 7, 'shares': 0},\n",
       "  'twitter': {'likes': 9, 'comments': 8, 'shares': 5}},\n",
       " 'customer_service_interactions': {'number_of_interactions': 2,\n",
       "  'last_interaction': '2023-03-27T11:30:11.536Z'},\n",
       " 'email_marketing': {'open_rate': 37,\n",
       "  'click_through_rate': 92,\n",
       "  'last_email': '2023-03-27T09:48:30.470Z'},\n",
       " 'events_and_promotions': {'attended_events': ['SXSW', 'Boston Marathon'],\n",
       "  'promotions_used': ['Frame Your Style', 'Share Your Style']},\n",
       " 'propensity_to_buy': 0.99,\n",
       " 'lifetime_value': 1213.03,\n",
       " 'customer_acquisition_cost': 26.74}"
      ]
     },
     "execution_count": 2,
     "metadata": {},
     "output_type": "execute_result"
    }
   ],
   "source": [
    "first = get_profile(1)\n",
    "first"
   ]
  },
  {
   "cell_type": "code",
   "execution_count": 3,
   "metadata": {},
   "outputs": [
    {
     "name": "stdout",
     "output_type": "stream",
     "text": [
      "Initializing shadazzle with 19 messages\n"
     ]
    },
    {
     "data": {
      "text/plain": [
       "\"Shadazzle sells innovative and stylish smart sunglasses that are designed to enhance our customers' everyday lives. Our smart sunglasses feature built-in Bluetooth technology, which allows users to connect to their phone and enjoy hands-free calling and music streaming. Our frames and lenses are also customizable, allowing customers to create a personalized look that suits their style. In addition to our smart sunglasses, we also offer accessories such as cases and cleaning kits.\""
      ]
     },
     "execution_count": 3,
     "metadata": {},
     "output_type": "execute_result"
    }
   ],
   "source": [
    "from utils import CompanyTrip\n",
    "\n",
    "company_trip = CompanyTrip.from_name(company)\n",
    "company_trip.ask(\"What do you sell again?\")\n"
   ]
  },
  {
   "cell_type": "code",
   "execution_count": null,
   "metadata": {},
   "outputs": [],
   "source": []
  },
  {
   "cell_type": "code",
   "execution_count": null,
   "metadata": {},
   "outputs": [],
   "source": []
  }
 ],
 "metadata": {
  "kernelspec": {
   "display_name": "venv",
   "language": "python",
   "name": "python3"
  },
  "language_info": {
   "codemirror_mode": {
    "name": "ipython",
    "version": 3
   },
   "file_extension": ".py",
   "mimetype": "text/x-python",
   "name": "python",
   "nbconvert_exporter": "python",
   "pygments_lexer": "ipython3",
   "version": "3.11.2"
  },
  "orig_nbformat": 4
 },
 "nbformat": 4,
 "nbformat_minor": 2
}
