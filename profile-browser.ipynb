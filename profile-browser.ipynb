{
 "cells": [
  {
   "cell_type": "code",
   "execution_count": 7,
   "metadata": {},
   "outputs": [],
   "source": [
    "import requests\n",
    "\n",
    "company = \"shadazzle\" # OR \"fitlyfe\" OR \"socimind\"\n",
    "profiles_url = f\"https://llm-companies.cyclic.app/api/{company}/profiles\"\n",
    "\n",
    "def get_profile(id):\n",
    "    profile_url = profiles_url + \"/\" + str(id)\n",
    "    response = requests.get(profile_url)\n",
    "    return response.json()"
   ]
  },
  {
   "cell_type": "code",
   "execution_count": 5,
   "metadata": {},
   "outputs": [
    {
     "data": {
      "text/plain": [
       "{'id': 1,\n",
       " 'first_name': 'Justine',\n",
       " 'last_name': 'Doyle',\n",
       " 'email': 'justine15@hotmail.com',\n",
       " 'phone_number': '+18743569352',\n",
       " 'address': {'street': '64037 Lowell Lane',\n",
       "  'city': 'Jacobsonfurt',\n",
       "  'state': 'IA',\n",
       "  'zip_code': '69738'},\n",
       " 'recent_purchases': [],\n",
       " 'website_behavior': {'pages_viewed': 4,\n",
       "  'time_spent': 113,\n",
       "  'last_visit': '2023-03-27T17:01:16.149Z'},\n",
       " 'social_media_engagement': {'facebook': {'likes': 3,\n",
       "   'comments': 5,\n",
       "   'shares': 0},\n",
       "  'instagram': {'likes': 91, 'comments': 7, 'shares': 0},\n",
       "  'twitter': {'likes': 2, 'comments': 2, 'shares': 2}},\n",
       " 'customer_service_interactions': {'number_of_interactions': 10,\n",
       "  'last_interaction': '2023-03-27T01:41:01.408Z'},\n",
       " 'email_marketing': {'open_rate': 65,\n",
       "  'click_through_rate': 17,\n",
       "  'last_email': '2023-03-27T11:49:11.788Z'},\n",
       " 'events_and_promotions': {'attended_events': ['CES'], 'promotions_used': []},\n",
       " 'propensity_to_buy': 0.84,\n",
       " 'lifetime_value': 275.97,\n",
       " 'customer_acquisition_cost': 236.93}"
      ]
     },
     "execution_count": 5,
     "metadata": {},
     "output_type": "execute_result"
    }
   ],
   "source": [
    "first = get_profile(1)\n",
    "first"
   ]
  },
  {
   "cell_type": "code",
   "execution_count": 6,
   "metadata": {},
   "outputs": [
    {
     "name": "stdout",
     "output_type": "stream",
     "text": [
      "Initializing shadazzle with 19 messages\n"
     ]
    },
    {
     "data": {
      "text/plain": [
       "\"I apologize for any confusion earlier. As an AI language model, I don't actually sell any products. Shadazzle, the company we created earlier, sells innovative and stylish smart sunglasses that feature built-in Bluetooth technology, customizable frames and lenses, as well as accessories such as cases and cleaning kits. Their mission is to revolutionize the eyewear industry by providing their customers with the ultimate fusion of fashion and technology.\""
      ]
     },
     "execution_count": 6,
     "metadata": {},
     "output_type": "execute_result"
    }
   ],
   "source": [
    "from utils import CompanyTrip\n",
    "\n",
    "company_trip = CompanyTrip.from_name(company)\n",
    "company_trip.ask(\"What do you sell again?\")\n"
   ]
  }
 ],
 "metadata": {
  "kernelspec": {
   "display_name": "venv",
   "language": "python",
   "name": "python3"
  },
  "language_info": {
   "codemirror_mode": {
    "name": "ipython",
    "version": 3
   },
   "file_extension": ".py",
   "mimetype": "text/x-python",
   "name": "python",
   "nbconvert_exporter": "python",
   "pygments_lexer": "ipython3",
   "version": "3.11.2"
  },
  "orig_nbformat": 4
 },
 "nbformat": 4,
 "nbformat_minor": 2
}
