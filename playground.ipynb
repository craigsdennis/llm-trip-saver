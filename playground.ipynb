{
 "cells": [
  {
   "attachments": {},
   "cell_type": "markdown",
   "metadata": {},
   "source": [
    "# Playground\n",
    "\n",
    "Use this notebook to explore"
   ]
  },
  {
   "cell_type": "code",
   "execution_count": 1,
   "metadata": {},
   "outputs": [],
   "source": [
    "from dotenv import load_dotenv\n",
    "\n",
    "load_dotenv()\n",
    "\n",
    "import os"
   ]
  },
  {
   "cell_type": "code",
   "execution_count": 2,
   "metadata": {},
   "outputs": [],
   "source": [
    "import requests\n",
    "\n",
    "companies = (\"shadazzle\", \"fitlyfe\", \"socimind\")\n",
    "company = companies[0]\n",
    "# # You can append ?_limit=10&_page=2 https://github.com/typicode/json-server#paginate\n",
    "profiles_url = f\"https://llm-companies.cyclic.app/api/{company}/profiles\"\n",
    "\n",
    "def get_profile(id):\n",
    "    profile_url = profiles_url + \"/\" + str(id)\n",
    "    response = requests.get(profile_url)\n",
    "    return response.json()"
   ]
  },
  {
   "cell_type": "code",
   "execution_count": 3,
   "metadata": {},
   "outputs": [
    {
     "data": {
      "text/plain": [
       "{'id': 1,\n",
       " 'first_name': 'Magnus',\n",
       " 'last_name': 'Bailey',\n",
       " 'email': 'magnus.bailey@hotmail.com',\n",
       " 'phone_number': '+10881349201',\n",
       " 'city': 'Fort June',\n",
       " 'state': 'NH',\n",
       " 'total_products_purchased': 4,\n",
       " 'most_recent_purchase': 'SunSync',\n",
       " 'web_pages_viewed': 20,\n",
       " 'web_time_spent': 174,\n",
       " 'web_last_visit': '2023-05-18T04:52:18.330Z',\n",
       " 'facebook_likes': 3,\n",
       " 'facebook_comments': 0,\n",
       " 'facebook_shares': 3,\n",
       " 'instagram_likes': 28,\n",
       " 'instagram_comments': 7,\n",
       " 'instagram_shares': 1,\n",
       " 'twitter_likes': 4,\n",
       " 'twitter_comments': 5,\n",
       " 'twitter_shares': 1,\n",
       " 'cust_support_number_of_interactions': 3,\n",
       " 'cust_last_interaction': '2023-05-18T01:15:31.237Z',\n",
       " 'csat': 0.89,\n",
       " 'emails_opened_last_30_days': 2,\n",
       " 'email_open_rate': 0.51,\n",
       " 'email_click_through_rate': 63,\n",
       " 'attended_events': [],\n",
       " 'promotions_used': ['Lens Upgrade'],\n",
       " 'propensity_to_buy': 0.02,\n",
       " 'lifetime_value': 1090.57,\n",
       " 'customer_acquisition_cost': 89.17}"
      ]
     },
     "execution_count": 3,
     "metadata": {},
     "output_type": "execute_result"
    }
   ],
   "source": [
    "first = get_profile(1)\n",
    "first"
   ]
  },
  {
   "attachments": {},
   "cell_type": "markdown",
   "metadata": {},
   "source": [
    "### Using the `CompanyTrip` helper to load previous chat history"
   ]
  },
  {
   "cell_type": "code",
   "execution_count": 4,
   "metadata": {},
   "outputs": [
    {
     "name": "stdout",
     "output_type": "stream",
     "text": [
      "Initializing shadazzle with 19 messages\n"
     ]
    },
    {
     "data": {
      "text/plain": [
       "'Shadazzle sells smart sunglasses that combine fashion and technology. The sunglasses feature built-in Bluetooth technology, which allows users to connect to their phone and enjoy hands-free calling and music streaming. The frames and lenses are also customizable, allowing customers to create a personalized look that suits their style. In addition to the sunglasses, Shadazzle also sells accessories such as cases and cleaning kits. '"
      ]
     },
     "execution_count": 4,
     "metadata": {},
     "output_type": "execute_result"
    }
   ],
   "source": [
    "from utils.trips import CompanyTrip\n",
    "\n",
    "company_trip = CompanyTrip.from_name(company)\n",
    "company_trip.ask(f\"What does {company} sell?\")\n"
   ]
  },
  {
   "attachments": {},
   "cell_type": "markdown",
   "metadata": {},
   "source": []
  },
  {
   "attachments": {},
   "cell_type": "markdown",
   "metadata": {},
   "source": [
    "### Using the Profiles API documentation"
   ]
  },
  {
   "attachments": {},
   "cell_type": "markdown",
   "metadata": {},
   "source": []
  },
  {
   "cell_type": "code",
   "execution_count": 5,
   "metadata": {},
   "outputs": [
    {
     "name": "stdout",
     "output_type": "stream",
     "text": [
      "\n",
      "  Endpoint: https://llm-companies.cyclic.app/api/shadazzle\n",
      "  GET /profiles\n",
      "\n",
      "  This API is for searching user profiles\n",
      "\n",
      "  Query parameters table:\n",
      "  \tid | integer | Retrieves the unique identifier for a specific user. A valid vaule should be an integer between 1 and 1000 | optional\n",
      "  \temail | string | The email address of a specific user. | optional\n",
      "  \t_limit | integer | The maximum number of profiles per page. A valid value should be an integer between 1 and 10 (inclusive). default: 3 | optional\n",
      "\n",
      "  Response schema:\n",
      "  \tid | integer | required\n",
      "  \temail | string | required\n",
      "  \tfirst_name | string | optional\n",
      "\tlast_name | string | optional\n",
      "\tphone_number | string | optional\n",
      "\tcity | string | optional\n",
      "\tstate | string | optional\n",
      "\ttotal_products_purchased | number | optional\n",
      "\tmost_recent_purchase | string | optional\n",
      "\tweb_pages_viewed | number | optional\n",
      "\tweb_time_spent | number | optional\n",
      "\tweb_last_visit | datetime | optional\n",
      "\tfacebook_likes | number | optional\n",
      "\tfacebook_comments | number | optional\n",
      "\tfacebook_shares | number | optional\n",
      "\tinstagram_likes | number | optional\n",
      "\tinstagram_comments | number | optional\n",
      "\tinstagram_shares | number | optional\n",
      "\ttwitter_likes | number | optional\n",
      "\ttwitter_comments | number | optional\n",
      "\ttwitter_shares | number | optional\n",
      "\tcust_support_number_of_interactions | number | optional\n",
      "\tcust_last_interaction | datetime | optional\n",
      "\tcsat | number | optional\n",
      "\temails_opened_last_30_days | number | optional\n",
      "\temail_open_rate | number | optional\n",
      "\temail_click_through_rate | number | optional\n",
      "\tattended_events | array | optional\n",
      "\tpromotions_used | array | optional\n",
      "\tpropensity_to_buy | number | optional\n",
      "\tlifetime_value | number | optional\n",
      "\tcustomer_acquisition_cost | number | optional\n",
      "\n",
      "  Use _limit: 1\n",
      "  \n"
     ]
    }
   ],
   "source": [
    "response = requests.get(f\"https://llm-companies.cyclic.app/api/{company}/metadata\")\n",
    "metadata = response.json()\n",
    "docs = metadata[\"docs\"]\n",
    "print(docs)"
   ]
  },
  {
   "cell_type": "code",
   "execution_count": 6,
   "metadata": {},
   "outputs": [],
   "source": [
    "from langchain.chains import APIChain\n",
    "from langchain.llms import GooglePalm"
   ]
  },
  {
   "cell_type": "code",
   "execution_count": 7,
   "metadata": {},
   "outputs": [
    {
     "name": "stdout",
     "output_type": "stream",
     "text": [
      "\n",
      "\n",
      "\u001b[1m> Entering new APIChain chain...\u001b[0m\n",
      "\u001b[32;1m\u001b[1;3mhttps://llm-companies.cyclic.app/api/shadazzle/profiles?id=42&_limit=1\u001b[0m\n",
      "\u001b[33;1m\u001b[1;3m[\n",
      "  {\n",
      "    \"id\": 42,\n",
      "    \"first_name\": \"Torrey\",\n",
      "    \"last_name\": \"Casper\",\n",
      "    \"email\": \"torrey_casper@gmail.com\",\n",
      "    \"phone_number\": \"+14116176888\",\n",
      "    \"city\": \"Fort Larrystead\",\n",
      "    \"state\": \"IA\",\n",
      "    \"total_products_purchased\": 2,\n",
      "    \"most_recent_purchase\": \"EcoShades\",\n",
      "    \"web_pages_viewed\": 2,\n",
      "    \"web_time_spent\": 117,\n",
      "    \"web_last_visit\": \"2023-05-18T18:10:22.377Z\",\n",
      "    \"facebook_likes\": 7,\n",
      "    \"facebook_comments\": 2,\n",
      "    \"facebook_shares\": 5,\n",
      "    \"instagram_likes\": 21,\n",
      "    \"instagram_comments\": 0,\n",
      "    \"instagram_shares\": 4,\n",
      "    \"twitter_likes\": 8,\n",
      "    \"twitter_comments\": 2,\n",
      "    \"twitter_shares\": 1,\n",
      "    \"cust_support_number_of_interactions\": 6,\n",
      "    \"cust_last_interaction\": \"2023-05-18T00:56:51.534Z\",\n",
      "    \"csat\": 0.06,\n",
      "    \"emails_opened_last_30_days\": 9,\n",
      "    \"email_open_rate\": 0.69,\n",
      "    \"email_click_through_rate\": 90,\n",
      "    \"attended_events\": [\n",
      "      \"Coachella\"\n",
      "    ],\n",
      "    \"promotions_used\": [],\n",
      "    \"propensity_to_buy\": 0.88,\n",
      "    \"lifetime_value\": 598.76,\n",
      "    \"customer_acquisition_cost\": 187.23\n",
      "  }\n",
      "]\u001b[0m\n",
      "\n",
      "\u001b[1m> Finished chain.\u001b[0m\n"
     ]
    },
    {
     "data": {
      "text/plain": [
       "'The user profile with id 42 is owned by Torrey Casper. They have purchased 2 products, the most recent being EcoShades. They have viewed 2 web pages and spent 117 seconds on the site. Their last visit was on 2023-05-18T18:10:22.377Z.'"
      ]
     },
     "execution_count": 7,
     "metadata": {},
     "output_type": "execute_result"
    }
   ],
   "source": [
    "profiles_prompt = \"What do you know about profile id 42?\"\n",
    "llm = GooglePalm(temperature=0)\n",
    "api_chain = APIChain.from_llm_and_api_docs(llm, docs, verbose=True)\n",
    "result = api_chain.run(profiles_prompt)\n",
    "result\n",
    "        "
   ]
  },
  {
   "cell_type": "code",
   "execution_count": null,
   "metadata": {},
   "outputs": [],
   "source": []
  }
 ],
 "metadata": {
  "kernelspec": {
   "display_name": "venv",
   "language": "python",
   "name": "python3"
  },
  "language_info": {
   "codemirror_mode": {
    "name": "ipython",
    "version": 3
   },
   "file_extension": ".py",
   "mimetype": "text/x-python",
   "name": "python",
   "nbconvert_exporter": "python",
   "pygments_lexer": "ipython3",
   "version": "3.11.2"
  },
  "orig_nbformat": 4
 },
 "nbformat": 4,
 "nbformat_minor": 2
}
