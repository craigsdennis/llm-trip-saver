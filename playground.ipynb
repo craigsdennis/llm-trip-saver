{
 "cells": [
  {
   "attachments": {},
   "cell_type": "markdown",
   "metadata": {},
   "source": [
    "# Playground\n",
    "\n",
    "Use this notebook to explore"
   ]
  },
  {
   "cell_type": "code",
   "execution_count": 8,
   "metadata": {},
   "outputs": [],
   "source": [
    "from dotenv import load_dotenv\n",
    "\n",
    "load_dotenv()\n",
    "\n",
    "import os"
   ]
  },
  {
   "cell_type": "code",
   "execution_count": 9,
   "metadata": {},
   "outputs": [],
   "source": [
    "import requests\n",
    "\n",
    "company = \"shadazzle\" # OR \"fitlyfe\" OR \"socimind\"\n",
    "# # You can append ?_limit=10&_page=2 https://github.com/typicode/json-server#paginate\n",
    "profiles_url = f\"https://llm-companies.cyclic.app/api/{company}/profiles\"\n",
    "\n",
    "def get_profile(id):\n",
    "    profile_url = profiles_url + \"/\" + str(id)\n",
    "    response = requests.get(profile_url)\n",
    "    return response.json()"
   ]
  },
  {
   "cell_type": "code",
   "execution_count": 10,
   "metadata": {},
   "outputs": [
    {
     "data": {
      "text/plain": [
       "{'id': 1,\n",
       " 'first_name': 'Berry',\n",
       " 'last_name': 'Gleichner',\n",
       " 'email': 'berry_gleichner85@hotmail.com',\n",
       " 'phone_number': '+10553678005',\n",
       " 'city': 'Blickland',\n",
       " 'state': 'FL',\n",
       " 'total_products_purchased': 0,\n",
       " 'web_pages_viewed': 13,\n",
       " 'web_time_spent': 389,\n",
       " 'web_last_visit': '2023-04-15T01:06:21.936Z',\n",
       " 'facebook_likes': 7,\n",
       " 'facebook_comments': 3,\n",
       " 'facebook_shares': 2,\n",
       " 'instagram_likes': 41,\n",
       " 'instagram_comments': 1,\n",
       " 'instagram_shares': 3,\n",
       " 'twitter_likes': 5,\n",
       " 'twitter_comments': 7,\n",
       " 'twitter_shares': 5,\n",
       " 'cust_support_number_of_interactions': 0,\n",
       " 'cust_last_interaction': '2023-04-14T17:42:19.171Z',\n",
       " 'csat': 0.26,\n",
       " 'emails_opened_last_30_days': 9,\n",
       " 'email_open_rate': 0.9,\n",
       " 'email_click_through_rate': 73,\n",
       " 'attended_events': [],\n",
       " 'promotions_used': ['Lens Upgrade', 'Shadazzle VIP'],\n",
       " 'propensity_to_buy': 0.88,\n",
       " 'lifetime_value': 577.65,\n",
       " 'customer_acquisition_cost': 152.55}"
      ]
     },
     "execution_count": 10,
     "metadata": {},
     "output_type": "execute_result"
    }
   ],
   "source": [
    "first = get_profile(1)\n",
    "first"
   ]
  },
  {
   "attachments": {},
   "cell_type": "markdown",
   "metadata": {},
   "source": [
    "### Using the `CompanyTrip` helper to load previous chat history"
   ]
  },
  {
   "cell_type": "code",
   "execution_count": 11,
   "metadata": {},
   "outputs": [
    {
     "name": "stdout",
     "output_type": "stream",
     "text": [
      "Initializing shadazzle with 19 messages\n"
     ]
    },
    {
     "data": {
      "text/plain": [
       "'Shadazzle sells innovative and stylish smart sunglasses that combine fashion and technology to enhance the lives of its customers. The sunglasses feature built-in Bluetooth technology, allowing users to connect to their phones for hands-free calling and music streaming. Additionally, Shadazzle offers customizable frames and lenses, giving customers the ability to personalize their sunglasses to match their style. The company also sells accessories such as cases and cleaning kits to complement its smart sunglasses.'"
      ]
     },
     "execution_count": 11,
     "metadata": {},
     "output_type": "execute_result"
    }
   ],
   "source": [
    "from utils import CompanyTrip\n",
    "\n",
    "company_trip = CompanyTrip.from_name(company)\n",
    "company_trip.ask(f\"What does {company} sell?\")\n"
   ]
  },
  {
   "cell_type": "markdown",
   "metadata": {},
   "source": []
  },
  {
   "attachments": {},
   "cell_type": "markdown",
   "metadata": {},
   "source": [
    "### Using the Profiles API documentation"
   ]
  },
  {
   "attachments": {},
   "cell_type": "markdown",
   "metadata": {},
   "source": []
  },
  {
   "cell_type": "code",
   "execution_count": 12,
   "metadata": {},
   "outputs": [
    {
     "name": "stdout",
     "output_type": "stream",
     "text": [
      "Endpoint: https://llm-companies.cyclic.app/api/shadazzle\n",
      "GET /profiles\n",
      "\n",
      "This API is for searching user profiles\n",
      "\n",
      "Query parameters table:\n",
      "id | integer | Retrieves the unique identifier for a specific user. A valid vaule should be an integer between 1 and 1000 | optional\n",
      "email | string | The email address of a specific user. | optional\n",
      "_limit | integer | The maximum number of profiles per page. A valid value should be an integer between 1 and 10 (inclusive). default: 3 | optional\n",
      "\n",
      "Response schema (JSON object):\n",
      "id | integer | required\n",
      "email | string | required\n",
      "first_name | string | optional\n",
      "last_name | string | optional\n",
      "phone_number | string | optional\n",
      "city | string | optional\n",
      "state | string | optional\n",
      "total_products_purchased | number | optional\n",
      "most_recent_purchase | string | optional\n",
      "web_pages_viewed | number | optional\n",
      "web_time_spent | number | optional\n",
      "web_last_visit | datetime | optional\n",
      "facebook_likes | number | optional\n",
      "facebook_comments | number | optional\n",
      "facebook_shares | number | optional\n",
      "instagram_likes | number | optional\n",
      "instagram_comments | number | optional\n",
      "instagram_shares | number | optional\n",
      "twitter_likes | number | optional\n",
      "twitter_comments | number | optional\n",
      "twitter_shares | number | optional\n",
      "cust_support_number_of_interactions | number | optional\n",
      "cust_last_interaction | datetime | optional\n",
      "csat | number | optional\n",
      "emails_opened_last_30_days | number | optional\n",
      "email_open_rate | number | optional\n",
      "email_click_through_rate | number | optional\n",
      "attended_events | array | optional\n",
      "promotions_used | array | optional\n",
      "propensity_to_buy | number | optional\n",
      "lifetime_value | number | optional\n",
      "customer_acquisition_cost | number | optional\n",
      "\n",
      "Use _limit: 1\n"
     ]
    }
   ],
   "source": [
    "response = requests.get(f\"https://llm-companies.cyclic.app/api/{company}/metadata\")\n",
    "metadata = response.json()\n",
    "docs = metadata[\"docs\"]\n",
    "print(docs)"
   ]
  },
  {
   "cell_type": "code",
   "execution_count": 13,
   "metadata": {},
   "outputs": [],
   "source": [
    "from langchain.chains import APIChain\n",
    "from langchain.chat_models import ChatOpenAI"
   ]
  },
  {
   "cell_type": "code",
   "execution_count": 14,
   "metadata": {},
   "outputs": [
    {
     "name": "stdout",
     "output_type": "stream",
     "text": [
      "\n",
      "\n",
      "\u001b[1m> Entering new APIChain chain...\u001b[0m\n",
      "\u001b[32;1m\u001b[1;3mhttps://llm-companies.cyclic.app/api/shadazzle/profiles?id=42&_limit=1\u001b[0m\n",
      "\u001b[33;1m\u001b[1;3m[\n",
      "  {\n",
      "    \"id\": 42,\n",
      "    \"first_name\": \"Adonis\",\n",
      "    \"last_name\": \"Schmeler\",\n",
      "    \"email\": \"adonis_schmeler87@hotmail.com\",\n",
      "    \"phone_number\": \"+16674328121\",\n",
      "    \"city\": \"Torphyport\",\n",
      "    \"state\": \"NE\",\n",
      "    \"total_products_purchased\": 1,\n",
      "    \"most_recent_purchase\": \"ChromaShades\",\n",
      "    \"web_pages_viewed\": 18,\n",
      "    \"web_time_spent\": 286,\n",
      "    \"web_last_visit\": \"2023-04-14T13:18:20.842Z\",\n",
      "    \"facebook_likes\": 5,\n",
      "    \"facebook_comments\": 0,\n",
      "    \"facebook_shares\": 4,\n",
      "    \"instagram_likes\": 41,\n",
      "    \"instagram_comments\": 9,\n",
      "    \"instagram_shares\": 0,\n",
      "    \"twitter_likes\": 1,\n",
      "    \"twitter_comments\": 8,\n",
      "    \"twitter_shares\": 3,\n",
      "    \"cust_support_number_of_interactions\": 10,\n",
      "    \"cust_last_interaction\": \"2023-04-14T23:23:54.041Z\",\n",
      "    \"csat\": 0.26,\n",
      "    \"emails_opened_last_30_days\": 10,\n",
      "    \"email_open_rate\": 0.61,\n",
      "    \"email_click_through_rate\": 9,\n",
      "    \"attended_events\": [],\n",
      "    \"promotions_used\": [\n",
      "      \"Share Your Style\",\n",
      "      \"Shadazzle VIP\"\n",
      "    ],\n",
      "    \"propensity_to_buy\": 0.35,\n",
      "    \"lifetime_value\": 876.26,\n",
      "    \"customer_acquisition_cost\": 296.38\n",
      "  }\n",
      "]\u001b[0m\n",
      "\n",
      "\u001b[1m> Finished chain.\u001b[0m\n"
     ]
    },
    {
     "data": {
      "text/plain": [
       "'Profile ID 42 belongs to Adonis Schmeler with the email adonis_schmeler87@hotmail.com. Adonis lives in Torphyport, NE, and has purchased one product, ChromaShades. They have interacted with customer support 10 times and have a CSAT score of 0.26. Adonis has used the promotions \"Share Your Style\" and \"Shadazzle VIP.\" Their propensity to buy is 0.35, with a lifetime value of $876.26 and a customer acquisition cost of $296.38.'"
      ]
     },
     "execution_count": 14,
     "metadata": {},
     "output_type": "execute_result"
    }
   ],
   "source": [
    "profiles_prompt = \"What do you know about profile id 42?\"\n",
    "llm = ChatOpenAI(model_name=os.environ[\"OPENAI_MODEL\"], temperature=0)\n",
    "api_chain = APIChain.from_llm_and_api_docs(llm, docs, verbose=True)\n",
    "result = api_chain.run(profiles_prompt)\n",
    "result\n",
    "        "
   ]
  },
  {
   "cell_type": "code",
   "execution_count": null,
   "metadata": {},
   "outputs": [],
   "source": []
  }
 ],
 "metadata": {
  "kernelspec": {
   "display_name": "venv",
   "language": "python",
   "name": "python3"
  },
  "language_info": {
   "codemirror_mode": {
    "name": "ipython",
    "version": 3
   },
   "file_extension": ".py",
   "mimetype": "text/x-python",
   "name": "python",
   "nbconvert_exporter": "python",
   "pygments_lexer": "ipython3",
   "version": "3.11.2"
  },
  "orig_nbformat": 4
 },
 "nbformat": 4,
 "nbformat_minor": 2
}
