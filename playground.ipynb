{
 "cells": [
  {
   "attachments": {},
   "cell_type": "markdown",
   "metadata": {},
   "source": [
    "# Playground\n",
    "\n",
    "Use this notebook to explore"
   ]
  },
  {
   "cell_type": "code",
   "execution_count": 10,
   "metadata": {},
   "outputs": [],
   "source": [
    "from dotenv import load_dotenv\n",
    "\n",
    "load_dotenv()\n",
    "\n",
    "import os"
   ]
  },
  {
   "cell_type": "code",
   "execution_count": 11,
   "metadata": {},
   "outputs": [],
   "source": [
    "import requests\n",
    "\n",
    "companies = (\"shadazzle\", \"fitlyfe\", \"socimind\")\n",
    "company = companies[0]\n",
    "# # You can append ?_limit=10&_page=2 https://github.com/typicode/json-server#paginate\n",
    "profiles_url = f\"https://llm-companies.cyclic.app/api/{company}/profiles\"\n",
    "\n",
    "def get_profile(id):\n",
    "    profile_url = profiles_url + \"/\" + str(id)\n",
    "    response = requests.get(profile_url)\n",
    "    return response.json()"
   ]
  },
  {
   "cell_type": "code",
   "execution_count": 12,
   "metadata": {},
   "outputs": [
    {
     "data": {
      "text/plain": [
       "{'id': 1,\n",
       " 'first_name': 'Camila',\n",
       " 'last_name': 'Predovic',\n",
       " 'email': 'camila54@yahoo.com',\n",
       " 'phone_number': '+18194411704',\n",
       " 'city': 'Catalina Foothills',\n",
       " 'state': 'CA',\n",
       " 'total_products_purchased': 2,\n",
       " 'most_recent_purchase': 'MoodShades',\n",
       " 'web_pages_viewed': 12,\n",
       " 'web_time_spent': 141,\n",
       " 'web_last_visit': '2023-04-25T20:54:13.181Z',\n",
       " 'facebook_likes': 1,\n",
       " 'facebook_comments': 5,\n",
       " 'facebook_shares': 1,\n",
       " 'instagram_likes': 39,\n",
       " 'instagram_comments': 0,\n",
       " 'instagram_shares': 4,\n",
       " 'twitter_likes': 2,\n",
       " 'twitter_comments': 8,\n",
       " 'twitter_shares': 3,\n",
       " 'cust_support_number_of_interactions': 1,\n",
       " 'cust_last_interaction': '2023-04-25T10:04:48.264Z',\n",
       " 'csat': 0.63,\n",
       " 'emails_opened_last_30_days': 4,\n",
       " 'email_open_rate': 0.56,\n",
       " 'email_click_through_rate': 75,\n",
       " 'attended_events': [],\n",
       " 'promotions_used': ['Share Your Style'],\n",
       " 'propensity_to_buy': 0.58,\n",
       " 'lifetime_value': 469.69,\n",
       " 'customer_acquisition_cost': 275.77}"
      ]
     },
     "execution_count": 12,
     "metadata": {},
     "output_type": "execute_result"
    }
   ],
   "source": [
    "first = get_profile(1)\n",
    "first"
   ]
  },
  {
   "attachments": {},
   "cell_type": "markdown",
   "metadata": {},
   "source": [
    "### Using the `CompanyTrip` helper to load previous chat history"
   ]
  },
  {
   "cell_type": "code",
   "execution_count": 13,
   "metadata": {},
   "outputs": [
    {
     "name": "stdout",
     "output_type": "stream",
     "text": [
      "Initializing shadazzle with 19 messages\n"
     ]
    },
    {
     "data": {
      "text/plain": [
       "\"Shadazzle sells innovative and stylish smart sunglasses that combine fashion and technology. Our smart sunglasses feature built-in Bluetooth technology, which allows users to connect to their phone and enjoy hands-free calling and music streaming. In addition, our frames and lenses are customizable, allowing customers to create a personalized look that suits their style. We also offer accessories such as cases and cleaning kits to complement our smart sunglasses. At Shadazzle, our focus is on providing high-quality, innovative products that enhance our customers' daily lives.\""
      ]
     },
     "execution_count": 13,
     "metadata": {},
     "output_type": "execute_result"
    }
   ],
   "source": [
    "from utils.trips import CompanyTrip\n",
    "\n",
    "company_trip = CompanyTrip.from_name(company)\n",
    "company_trip.ask(f\"What does {company} sell?\")\n"
   ]
  },
  {
   "cell_type": "markdown",
   "metadata": {},
   "source": []
  },
  {
   "attachments": {},
   "cell_type": "markdown",
   "metadata": {},
   "source": [
    "### Using the Profiles API documentation"
   ]
  },
  {
   "attachments": {},
   "cell_type": "markdown",
   "metadata": {},
   "source": []
  },
  {
   "cell_type": "code",
   "execution_count": 14,
   "metadata": {},
   "outputs": [
    {
     "name": "stdout",
     "output_type": "stream",
     "text": [
      "Endpoint: https://llm-companies.cyclic.app/api/shadazzle\n",
      "GET /profiles\n",
      "\n",
      "This API is for searching user profiles\n",
      "\n",
      "Query parameters table:\n",
      "id | integer | Retrieves the unique identifier for a specific user. A valid vaule should be an integer between 1 and 1000 | optional\n",
      "email | string | The email address of a specific user. | optional\n",
      "_limit | integer | The maximum number of profiles per page. A valid value should be an integer between 1 and 10 (inclusive). default: 3 | optional\n",
      "\n",
      "Response schema (JSON object):\n",
      "id | integer | required\n",
      "email | string | required\n",
      "first_name | string | optional\n",
      "last_name | string | optional\n",
      "phone_number | string | optional\n",
      "city | string | optional\n",
      "state | string | optional\n",
      "total_products_purchased | number | optional\n",
      "most_recent_purchase | string | optional\n",
      "web_pages_viewed | number | optional\n",
      "web_time_spent | number | optional\n",
      "web_last_visit | datetime | optional\n",
      "facebook_likes | number | optional\n",
      "facebook_comments | number | optional\n",
      "facebook_shares | number | optional\n",
      "instagram_likes | number | optional\n",
      "instagram_comments | number | optional\n",
      "instagram_shares | number | optional\n",
      "twitter_likes | number | optional\n",
      "twitter_comments | number | optional\n",
      "twitter_shares | number | optional\n",
      "cust_support_number_of_interactions | number | optional\n",
      "cust_last_interaction | datetime | optional\n",
      "csat | number | optional\n",
      "emails_opened_last_30_days | number | optional\n",
      "email_open_rate | number | optional\n",
      "email_click_through_rate | number | optional\n",
      "attended_events | array | optional\n",
      "promotions_used | array | optional\n",
      "propensity_to_buy | number | optional\n",
      "lifetime_value | number | optional\n",
      "customer_acquisition_cost | number | optional\n",
      "\n",
      "Use _limit: 1\n"
     ]
    }
   ],
   "source": [
    "response = requests.get(f\"https://llm-companies.cyclic.app/api/{company}/metadata\")\n",
    "metadata = response.json()\n",
    "docs = metadata[\"docs\"]\n",
    "print(docs)"
   ]
  },
  {
   "cell_type": "code",
   "execution_count": 15,
   "metadata": {},
   "outputs": [],
   "source": [
    "from langchain.chains import APIChain\n",
    "from langchain.chat_models import ChatOpenAI"
   ]
  },
  {
   "cell_type": "code",
   "execution_count": 16,
   "metadata": {},
   "outputs": [
    {
     "name": "stdout",
     "output_type": "stream",
     "text": [
      "\n",
      "\n",
      "\u001b[1m> Entering new APIChain chain...\u001b[0m\n",
      "\u001b[32;1m\u001b[1;3mhttps://llm-companies.cyclic.app/api/shadazzle/profiles?id=42&_limit=1&fields=id,email,first_name,last_name,phone_number,city,state,total_products_purchased,most_recent_purchase,web_pages_viewed,web_time_spent,web_last_visit,facebook_likes,facebook_comments,facebook_shares,instagram_likes,instagram_comments,instagram_shares,twitter_likes,twitter_comments,twitter_shares,cust_support_number_of_interactions,cust_last_interaction,csat,emails_opened_last_30_days,email_open_rate,email_click_through_rate,attended_events,promotions_used,propensity_to_buy,lifetime_value,customer_acquisition_cost\u001b[0m\n",
      "\u001b[33;1m\u001b[1;3m[\n",
      "  {\n",
      "    \"id\": 42,\n",
      "    \"first_name\": \"Soledad\",\n",
      "    \"last_name\": \"Hilpert\",\n",
      "    \"email\": \"soledad.hilpert1@yahoo.com\",\n",
      "    \"phone_number\": \"+19806188689\",\n",
      "    \"city\": \"New Stephanyfort\",\n",
      "    \"state\": \"NY\",\n",
      "    \"total_products_purchased\": 3,\n",
      "    \"most_recent_purchase\": \"ZoomShades\",\n",
      "    \"web_pages_viewed\": 1,\n",
      "    \"web_time_spent\": 140,\n",
      "    \"web_last_visit\": \"2023-04-25T21:32:26.511Z\",\n",
      "    \"facebook_likes\": 3,\n",
      "    \"facebook_comments\": 3,\n",
      "    \"facebook_shares\": 4,\n",
      "    \"instagram_likes\": 24,\n",
      "    \"instagram_comments\": 8,\n",
      "    \"instagram_shares\": 2,\n",
      "    \"twitter_likes\": 5,\n",
      "    \"twitter_comments\": 4,\n",
      "    \"twitter_shares\": 2,\n",
      "    \"cust_support_number_of_interactions\": 7,\n",
      "    \"cust_last_interaction\": \"2023-04-25T06:02:36.840Z\",\n",
      "    \"csat\": 0.69,\n",
      "    \"emails_opened_last_30_days\": 7,\n",
      "    \"email_open_rate\": 0.53,\n",
      "    \"email_click_through_rate\": 75,\n",
      "    \"attended_events\": [],\n",
      "    \"promotions_used\": [\n",
      "      \"Share Your Style\"\n",
      "    ],\n",
      "    \"propensity_to_buy\": 0.95,\n",
      "    \"lifetime_value\": 815.95,\n",
      "    \"customer_acquisition_cost\": 83.05\n",
      "  }\n",
      "]\u001b[0m\n",
      "\n",
      "\u001b[1m> Finished chain.\u001b[0m\n"
     ]
    },
    {
     "data": {
      "text/plain": [
       "'Profile id 42 belongs to Soledad Hilpert, who has purchased 3 products including ZoomShades. She has interacted with customer support 7 times and her last interaction was on April 25, 2023. Her CSAT score is 0.69 and her propensity to buy is 0.95. She has a lifetime value of $815.95 and her customer acquisition cost is $83.05. She has opened 7 emails in the last 30 days with an open rate of 0.53 and a click-through rate of 75%. She has used the \"Share Your Style\" promotion. She has also engaged with social media, with 3 Facebook likes, 3 Facebook comments, 4 Facebook shares, 24 Instagram likes, 8 Instagram comments, 2 Instagram shares, 5 Twitter likes, 4 Twitter comments, and 2 Twitter shares. She has viewed 1 web page and spent 140 seconds on it during her last visit on April 25, 2023.'"
      ]
     },
     "execution_count": 16,
     "metadata": {},
     "output_type": "execute_result"
    }
   ],
   "source": [
    "profiles_prompt = \"What do you know about profile id 42?\"\n",
    "llm = ChatOpenAI(model_name=os.environ[\"OPENAI_MODEL\"], temperature=0)\n",
    "api_chain = APIChain.from_llm_and_api_docs(llm, docs, verbose=True)\n",
    "result = api_chain.run(profiles_prompt)\n",
    "result\n",
    "        "
   ]
  },
  {
   "cell_type": "code",
   "execution_count": null,
   "metadata": {},
   "outputs": [],
   "source": []
  }
 ],
 "metadata": {
  "kernelspec": {
   "display_name": "venv",
   "language": "python",
   "name": "python3"
  },
  "language_info": {
   "codemirror_mode": {
    "name": "ipython",
    "version": 3
   },
   "file_extension": ".py",
   "mimetype": "text/x-python",
   "name": "python",
   "nbconvert_exporter": "python",
   "pygments_lexer": "ipython3",
   "version": "3.11.2"
  },
  "orig_nbformat": 4
 },
 "nbformat": 4,
 "nbformat_minor": 2
}
