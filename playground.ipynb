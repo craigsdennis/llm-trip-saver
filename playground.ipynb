{
 "cells": [
  {
   "attachments": {},
   "cell_type": "markdown",
   "metadata": {},
   "source": [
    "# Playground\n",
    "\n",
    "Use this notebook to explore"
   ]
  },
  {
   "cell_type": "code",
   "execution_count": 1,
   "metadata": {},
   "outputs": [],
   "source": [
    "from dotenv import load_dotenv\n",
    "\n",
    "load_dotenv()\n",
    "\n",
    "import os"
   ]
  },
  {
   "cell_type": "code",
   "execution_count": 2,
   "metadata": {},
   "outputs": [],
   "source": [
    "import requests\n",
    "\n",
    "companies = (\"shadazzle\", \"fitlyfe\", \"socimind\")\n",
    "company = companies[0]\n",
    "# # You can append ?_limit=10&_page=2 https://github.com/typicode/json-server#paginate\n",
    "profiles_url = f\"https://llm-companies.cyclic.app/api/{company}/profiles\"\n",
    "\n",
    "def get_profile(id):\n",
    "    profile_url = profiles_url + \"/\" + str(id)\n",
    "    response = requests.get(profile_url)\n",
    "    return response.json()"
   ]
  },
  {
   "cell_type": "code",
   "execution_count": 3,
   "metadata": {},
   "outputs": [
    {
     "data": {
      "text/plain": [
       "{'id': 1,\n",
       " 'first_name': 'Darby',\n",
       " 'last_name': 'Schulist',\n",
       " 'email': 'darby81@gmail.com',\n",
       " 'phone_number': '+17801228216',\n",
       " 'city': 'Samircester',\n",
       " 'state': 'MD',\n",
       " 'total_products_purchased': 1,\n",
       " 'most_recent_purchase': 'EcoShades',\n",
       " 'web_pages_viewed': 11,\n",
       " 'web_time_spent': 71,\n",
       " 'web_last_visit': '2023-05-23T06:51:19.363Z',\n",
       " 'facebook_likes': 1,\n",
       " 'facebook_comments': 3,\n",
       " 'facebook_shares': 3,\n",
       " 'instagram_likes': 47,\n",
       " 'instagram_comments': 6,\n",
       " 'instagram_shares': 1,\n",
       " 'twitter_likes': 3,\n",
       " 'twitter_comments': 2,\n",
       " 'twitter_shares': 4,\n",
       " 'cust_support_number_of_interactions': 9,\n",
       " 'cust_last_interaction': '2023-05-22T21:30:32.979Z',\n",
       " 'csat': 0.11,\n",
       " 'emails_opened_last_30_days': 6,\n",
       " 'email_open_rate': 0.47,\n",
       " 'email_click_through_rate': 0,\n",
       " 'attended_events': [],\n",
       " 'promotions_used': [],\n",
       " 'propensity_to_buy': 0.95,\n",
       " 'lifetime_value': 513.78,\n",
       " 'customer_acquisition_cost': 295.31}"
      ]
     },
     "execution_count": 3,
     "metadata": {},
     "output_type": "execute_result"
    }
   ],
   "source": [
    "first = get_profile(1)\n",
    "first"
   ]
  },
  {
   "attachments": {},
   "cell_type": "markdown",
   "metadata": {},
   "source": [
    "### Using the `CompanyTrip` helper to load previous chat history"
   ]
  },
  {
   "cell_type": "code",
   "execution_count": 4,
   "metadata": {},
   "outputs": [
    {
     "name": "stdout",
     "output_type": "stream",
     "text": [
      "Initializing shadazzle with 19 messages\n"
     ]
    },
    {
     "data": {
      "text/plain": [
       "\"Shadazzle sells smart sunglasses that combine fashion and technology. The sunglasses feature built-in Bluetooth technology, which allows users to connect to their phone and enjoy hands-free calling and music streaming. The frames and lenses are also customizable, allowing customers to create a personalized look that suits their style. In addition to the smart sunglasses, Shadazzle also offers accessories such as cases and cleaning kits. \\r\\n\\r\\nShadazzle's products are designed to enhance the everyday lives of its customers. The company's focus is on providing high-quality, innovative products that combine fashion and technology in a way that enhances its customers' daily lives.\""
      ]
     },
     "execution_count": 4,
     "metadata": {},
     "output_type": "execute_result"
    }
   ],
   "source": [
    "from utils.trips import CompanyTrip\n",
    "\n",
    "company_trip = CompanyTrip.from_name(company)\n",
    "company_trip.ask(f\"What does {company} sell?\")\n"
   ]
  },
  {
   "attachments": {},
   "cell_type": "markdown",
   "metadata": {},
   "source": []
  },
  {
   "attachments": {},
   "cell_type": "markdown",
   "metadata": {},
   "source": [
    "### Using the Profiles API documentation"
   ]
  },
  {
   "attachments": {},
   "cell_type": "markdown",
   "metadata": {},
   "source": []
  },
  {
   "cell_type": "code",
   "execution_count": 5,
   "metadata": {},
   "outputs": [
    {
     "name": "stdout",
     "output_type": "stream",
     "text": [
      "\n",
      "  Endpoint: https://llm-companies.cyclic.app/api/shadazzle\n",
      "  GET /profiles\n",
      "\n",
      "  This API is for searching user profiles\n",
      "\n",
      "  Query parameters table:\n",
      "  \tid | integer | Retrieves the unique identifier for a specific user. A valid vaule should be an integer between 1 and 1000 | optional\n",
      "  \temail | string | The email address of a specific user. | optional\n",
      "  \t_limit | integer | The maximum number of profiles per page. A valid value should be an integer between 1 and 10 (inclusive). default: 3 | optional\n",
      "\n",
      "  Response schema:\n",
      "  \tid | integer | required\n",
      "  \temail | string | required\n",
      "  \tfirst_name | string | optional\n",
      "\tlast_name | string | optional\n",
      "\tphone_number | string | optional\n",
      "\tcity | string | optional\n",
      "\tstate | string | optional\n",
      "\ttotal_products_purchased | number | optional\n",
      "\tmost_recent_purchase | string | optional\n",
      "\tweb_pages_viewed | number | optional\n",
      "\tweb_time_spent | number | optional\n",
      "\tweb_last_visit | datetime | optional\n",
      "\tfacebook_likes | number | optional\n",
      "\tfacebook_comments | number | optional\n",
      "\tfacebook_shares | number | optional\n",
      "\tinstagram_likes | number | optional\n",
      "\tinstagram_comments | number | optional\n",
      "\tinstagram_shares | number | optional\n",
      "\ttwitter_likes | number | optional\n",
      "\ttwitter_comments | number | optional\n",
      "\ttwitter_shares | number | optional\n",
      "\tcust_support_number_of_interactions | number | optional\n",
      "\tcust_last_interaction | datetime | optional\n",
      "\tcsat | number | optional\n",
      "\temails_opened_last_30_days | number | optional\n",
      "\temail_open_rate | number | optional\n",
      "\temail_click_through_rate | number | optional\n",
      "\tattended_events | array | optional\n",
      "\tpromotions_used | array | optional\n",
      "\tpropensity_to_buy | number | optional\n",
      "\tlifetime_value | number | optional\n",
      "\tcustomer_acquisition_cost | number | optional\n",
      "\n",
      "  Use _limit: 1\n",
      "  \n"
     ]
    }
   ],
   "source": [
    "response = requests.get(f\"https://llm-companies.cyclic.app/api/{company}/metadata\")\n",
    "metadata = response.json()\n",
    "docs = metadata[\"docs\"]\n",
    "print(docs)"
   ]
  },
  {
   "cell_type": "code",
   "execution_count": 6,
   "metadata": {},
   "outputs": [],
   "source": [
    "from langchain.chains import APIChain\n",
    "from langchain.llms import OpenAI"
   ]
  },
  {
   "cell_type": "code",
   "execution_count": 8,
   "metadata": {},
   "outputs": [
    {
     "name": "stderr",
     "output_type": "stream",
     "text": [
      "/Users/cdennis/Code/twilio/demos/llms/llm-trip-saver/venv/lib/python3.11/site-packages/langchain/llms/openai.py:169: UserWarning: You are trying to use a chat model. This way of initializing it is no longer supported. Instead, please use: `from langchain.chat_models import ChatOpenAI`\n",
      "  warnings.warn(\n",
      "/Users/cdennis/Code/twilio/demos/llms/llm-trip-saver/venv/lib/python3.11/site-packages/langchain/llms/openai.py:696: UserWarning: You are trying to use a chat model. This way of initializing it is no longer supported. Instead, please use: `from langchain.chat_models import ChatOpenAI`\n",
      "  warnings.warn(\n"
     ]
    },
    {
     "name": "stdout",
     "output_type": "stream",
     "text": [
      "\n",
      "\n",
      "\u001b[1m> Entering new APIChain chain...\u001b[0m\n",
      "\u001b[32;1m\u001b[1;3mhttps://llm-companies.cyclic.app/api/shadazzle/profiles?id=42&_limit=1&fields=id,email,first_name,last_name,phone_number,city,state,total_products_purchased,most_recent_purchase,promotions_used,propensity_to_buy,lifetime_value,customer_acquisition_cost\u001b[0m\n",
      "\u001b[33;1m\u001b[1;3m[\n",
      "  {\n",
      "    \"id\": 42,\n",
      "    \"first_name\": \"Justice\",\n",
      "    \"last_name\": \"Mayert\",\n",
      "    \"email\": \"justice45@yahoo.com\",\n",
      "    \"phone_number\": \"+10328094574\",\n",
      "    \"city\": \"South Kathleenmouth\",\n",
      "    \"state\": \"ME\",\n",
      "    \"total_products_purchased\": 3,\n",
      "    \"most_recent_purchase\": \"MoodShades\",\n",
      "    \"web_pages_viewed\": 8,\n",
      "    \"web_time_spent\": 264,\n",
      "    \"web_last_visit\": \"2023-05-22T23:16:23.807Z\",\n",
      "    \"facebook_likes\": 3,\n",
      "    \"facebook_comments\": 2,\n",
      "    \"facebook_shares\": 2,\n",
      "    \"instagram_likes\": 26,\n",
      "    \"instagram_comments\": 3,\n",
      "    \"instagram_shares\": 3,\n",
      "    \"twitter_likes\": 6,\n",
      "    \"twitter_comments\": 2,\n",
      "    \"twitter_shares\": 4,\n",
      "    \"cust_support_number_of_interactions\": 10,\n",
      "    \"cust_last_interaction\": \"2023-05-23T10:32:32.584Z\",\n",
      "    \"csat\": 0.79,\n",
      "    \"emails_opened_last_30_days\": 7,\n",
      "    \"email_open_rate\": 0.65,\n",
      "    \"email_click_through_rate\": 39,\n",
      "    \"attended_events\": [\n",
      "      \"NY Fashion Week\",\n",
      "      \"Coachella\"\n",
      "    ],\n",
      "    \"promotions_used\": [\n",
      "      \"Frame Your Style\"\n",
      "    ],\n",
      "    \"propensity_to_buy\": 0.15,\n",
      "    \"lifetime_value\": 836.58,\n",
      "    \"customer_acquisition_cost\": 238.69\n",
      "  }\n",
      "]\u001b[0m\n",
      "\n",
      "\u001b[1m> Finished chain.\u001b[0m\n"
     ]
    },
    {
     "data": {
      "text/plain": [
       "'Profile id 42 belongs to Justice Mayert with email justice45@yahoo.com. They have purchased 3 products, with the most recent purchase being MoodShades. They have viewed 8 web pages and spent 264 seconds on the website during their last visit on May 22, 2023. They have interacted with customer support 10 times and their last interaction was on May 23, 2023. Their CSAT score is 0.79 and they have opened 7 emails in the last 30 days with an open rate of 0.65 and a click-through rate of 39%. They have attended NY Fashion Week and Coachella events and used the promotion \"Frame Your Style\". Their propensity to buy is 0.15 and their lifetime value is $836.58 with a customer acquisition cost of $238.69.'"
      ]
     },
     "execution_count": 8,
     "metadata": {},
     "output_type": "execute_result"
    }
   ],
   "source": [
    "profiles_prompt = \"What do you know about profile id 42?\"\n",
    "llm = OpenAI(model_name=os.environ[\"OPENAI_MODEL\"], temperature=0)\n",
    "api_chain = APIChain.from_llm_and_api_docs(llm, docs, verbose=True)\n",
    "result = api_chain.run(profiles_prompt)\n",
    "result\n",
    "        "
   ]
  },
  {
   "cell_type": "code",
   "execution_count": null,
   "metadata": {},
   "outputs": [],
   "source": []
  }
 ],
 "metadata": {
  "kernelspec": {
   "display_name": "venv",
   "language": "python",
   "name": "python3"
  },
  "language_info": {
   "codemirror_mode": {
    "name": "ipython",
    "version": 3
   },
   "file_extension": ".py",
   "mimetype": "text/x-python",
   "name": "python",
   "nbconvert_exporter": "python",
   "pygments_lexer": "ipython3",
   "version": "3.11.2"
  },
  "orig_nbformat": 4
 },
 "nbformat": 4,
 "nbformat_minor": 2
}
